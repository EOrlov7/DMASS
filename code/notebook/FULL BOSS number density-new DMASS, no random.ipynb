{
 "cells": [
  {
   "cell_type": "markdown",
   "metadata": {},
   "source": [
    "# Full Boss NUM density"
   ]
  },
  {
   "cell_type": "code",
   "execution_count": 22,
   "metadata": {
    "scrolled": true
   },
   "outputs": [
    {
     "name": "stdout",
     "output_type": "stream",
     "text": [
      "The autoreload extension is already loaded. To reload it, use:\n",
      "  %reload_ext autoreload\n"
     ]
    }
   ],
   "source": [
    "import sys, os\n",
    "sys.path.append('../')\n",
    "from xd import *\n",
    "from utils import *\n",
    "import esutil\n",
    "import healpy as hp\n",
    "from systematics import *\n",
    "from matplotlib.backends.backend_pdf import PdfPages\n",
    "\n",
    "\n",
    "from matplotlib import rc\n",
    "rc('font',**{'family':'sans-serif','sans-serif':['Helvetica']})\n",
    "## for Palatino and other serif fonts use:\n",
    "#rc('font',**{'family':'serif','serif':['Palatino']})\n",
    "rc('text', usetex=True)\n",
    "\n",
    "\n",
    "%matplotlib inline\n",
    "\n",
    "%load_ext autoreload\n",
    "%autoreload 2"
   ]
  },
  {
   "cell_type": "code",
   "execution_count": 23,
   "metadata": {},
   "outputs": [],
   "source": [
    "def valid_hp(cat, nside = 4096):\n",
    "    \n",
    "    hpind = hpRaDecToHEALPixel(cat['RA'], cat['DEC'], nside=nside, nest= False)\n",
    "    hpind_reject = hpRaDecToHEALPixel(cat['RA'][cat['VETO_FLAG'] == 0], \n",
    "                                    cat['DEC'][cat['VETO_FLAG'] == 0], nside=nside, nest= False)\n",
    "    \n",
    "    hppixnumber = np.arange(hp.nside2npix(nside))\n",
    "    \n",
    "    geomask = np.in1d( hppixnumber, hpind )\n",
    "    rejectmask = np.in1d( hppixnumber, hpind_reject )\n",
    "    \n",
    "    print np.sum(geomask), np.sum(~rejectmask)\n",
    "    \n",
    "    \n",
    "    totalmask = geomask * (~rejectmask)\n",
    "    return hppixnumber[totalmask]\n",
    "\n",
    "\n",
    "def hp_mask(cat, valid_hpind, nside = 4096):\n",
    "    hpind = hpRaDecToHEALPixel(cat['RA'], cat['DEC'], nside=nside, nest= False)\n",
    "    HPmask = np.in1d(hpind, valid_hpind)\n",
    "    return HPmask\n",
    "\n",
    "\n",
    "\n",
    "\n",
    "def callingBOSSmask(option='SGC'):\n",
    "    \n",
    "    if option == 'SGC':\n",
    "        valid_hpind = fitsio.read('/n/des/lee.5922/data/cmass_cat/vetomask/mask_nside4096_Patchy-Mocks-Randoms-DR12SGC-COMPSAM_V6C.fits')\n",
    "    elif option == 'NGC': \n",
    "        valid_hpind = fitsio.read('/n/des/lee.5922/data/cmass_cat/vetomask/mask_nside4096_Patchy-Mocks-Randoms-DR12NGC-COMPSAM_V6C.fits')\n",
    "\n",
    "    CleanMask = np.zeros((valid_hpind.size, ), dtype=[('PIXEL', 'i4'),('RA', 'f8'), ('DEC', 'f8')])\n",
    "    CleanMask['PIXEL'] = valid_hpind\n",
    "    sys_ra, sys_dec = hpHEALPixelToRaDec(valid_hpind, nside = 4096)\n",
    "    CleanMask['RA'] = sys_ra\n",
    "    CleanMask['DEC'] = sys_dec\n",
    "    return CleanMask\n",
    "\n",
    "\n",
    "def BOSSvetoing(cat, option='SGC'):\n",
    "    \n",
    "    if option == 'SGC':\n",
    "        valid_hpind = esutil.io.read('/n/des/lee.5922/data/cmass_cat/vetomask/mask_nside4096_Patchy-Mocks-Randoms-DR12SGC-COMPSAM_V6C.fits')\n",
    "    elif option == 'NGC': \n",
    "        valid_hpind = esutil.io.read('/n/des/lee.5922/data/cmass_cat/vetomask/mask_nside4096_Patchy-Mocks-Randoms-DR12NGC-COMPSAM_V6C.fits')\n",
    "    elif option =='all':\n",
    "        valid_hpind = esutil.io.read(['/n/des/lee.5922/data/cmass_cat/vetomask/mask_nside4096_Patchy-Mocks-Randoms-DR12NGC-COMPSAM_V6C.fits',\n",
    "                                   '/n/des/lee.5922/data/cmass_cat/vetomask/mask_nside4096_Patchy-Mocks-Randoms-DR12SGC-COMPSAM_V6C.fits'],\n",
    "                                 combine=True)\n",
    "    hpind = hpRaDecToHEALPixel(cat['RA'], cat['DEC'], nside=4096, nest= False)\n",
    "    HPmask = np.in1d(hpind, valid_hpind)\n",
    "    \n",
    "    return cat[HPmask]\n",
    "\n",
    "#valid_hp4096 = valid_hp(mock_rand_ngc, nside = 4096)\n",
    "#vetoed_obj = hp_mask(mock_rand_ngc, valid_hp4096, nside = 4096)\n",
    "#print 'vetoed by flag', np.sum(mock_rand_ngc['VETO_FLAG'] == 0)\n",
    "#print 'vetoed by 4096mask', mock_rand_ngc.size - np.sum(vetoed_obj)\n",
    "#print 'vetoed by 2048mask', mock_rand_sgc.size - np.sum(vetoed_obj2048)"
   ]
  },
  {
   "cell_type": "code",
   "execution_count": 24,
   "metadata": {},
   "outputs": [],
   "source": [
    "# calling map \n",
    "GoldMask = callingEliGoldMask()\n",
    "#GoldMask_st82 = Cuts.SpatialCuts(GoldMask, ra=320, ra2=360, dec=-2, dec2=2)\n",
    "GoldMask_st82 = GoldMask[ GoldMask['DEC'] > -3.0 ]\n",
    "GoldMask_spt = GoldMask[ GoldMask['DEC'] < -3.0 ]\n",
    "#GoldMask_spt = Cuts.SpatialCuts(GoldMask_spt, ra=0, ra2 = 100, dec=-52, dec2 = -48)\n",
    "\n",
    "pixarea = hp.nside2pixarea( 4096, degrees = True)\n",
    "sptnpix = np.sum(GoldMask_spt['FRAC']) #hp.get_map_size( GoldMask_spt['PIXEL'] )\n",
    "st82npix =  np.sum(GoldMask_st82['FRAC']) # hp.get_map_size( GoldMask_st82 )\n",
    "SPTMaparea = pixarea * sptnpix\n",
    "ST82Maparea = pixarea * st82npix"
   ]
  },
  {
   "cell_type": "code",
   "execution_count": 79,
   "metadata": {},
   "outputs": [
    {
     "data": {
      "text/plain": [
       "(1203861, 4949766)"
      ]
     },
     "execution_count": 79,
     "metadata": {},
     "output_type": "execute_result"
    }
   ],
   "source": [
    "np.sum(GoldMask_spt['FRAC'] != 1.0 ), np.sum(GoldMask_spt['FRAC'] == 1.0 )"
   ]
  },
  {
   "cell_type": "code",
   "execution_count": 95,
   "metadata": {},
   "outputs": [],
   "source": [
    "\n",
    "#hpix_dmass = hpRaDecToHEALPixel(dmass_spt['RA'], dmass_spt['DEC'], nside=4096, nest= False)\n",
    "#dmass_spt_hpix = appendColumn(dmass_spt, name = 'PIXEL', value = hpix_dmass, dtypes=None)"
   ]
  },
  {
   "cell_type": "code",
   "execution_count": 87,
   "metadata": {},
   "outputs": [],
   "source": [
    "import pandas as pd\n",
    "desData = pd.DataFrame(dmass_spt)\n",
    "goldData = pd.DataFrame(GoldMask_spt)\n",
    "matched = pd.merge(desData, goldData, left_on='HPIX', right_on='PIXEL', how='left')\n",
    "matched_arr = matched.to_records(index=False)"
   ]
  },
  {
   "cell_type": "code",
   "execution_count": 97,
   "metadata": {},
   "outputs": [],
   "source": [
    "from utils import mergeCatalogsUsingPandas\n",
    "dmass_spt_hpix = mergeCatalogsUsingPandas(des=dmass_spt, gold=GoldMask_spt, how = 'right', \n",
    "                                      left_key='HPIX', right_key = 'PIXEL', suffixes = ['','_GOLD'], \n",
    "                                      left_index=False, right_index = False)"
   ]
  },
  {
   "cell_type": "code",
   "execution_count": 142,
   "metadata": {},
   "outputs": [
    {
     "name": "stdout",
     "output_type": "stream",
     "text": [
      "2422.648564262496 6523.511490618644\n"
     ]
    }
   ],
   "source": [
    "BOSSCleanMaskSGC = callingBOSSmask(option='SGC')\n",
    "BOSSCleanMaskNGC = callingBOSSmask(option='NGC')\n",
    "BOSSSGCMaparea = BOSSCleanMaskSGC.size * pixarea\n",
    "BOSSNGCMaparea = BOSSCleanMaskNGC.size * pixarea\n",
    "print BOSSSGCMaparea, BOSSNGCMaparea"
   ]
  },
  {
   "cell_type": "code",
   "execution_count": 27,
   "metadata": {},
   "outputs": [],
   "source": [
    "import numpy as np\n",
    "\n",
    "path = '/n/des/lee.5922/data/cmass_cat/'\n",
    "\n",
    "cmass_ngc = esutil.io.read(path+'galaxy_DR12v5_CMASS_North.fits.gz')\n",
    "cmass_sgc = esutil.io.read(path+'galaxy_DR12v5_CMASS_South.fits.gz')\n",
    "#cmass_ngc = esutil.io.read(path+'cmass-dr12v4-N-Reid-full.dat.fits')\n",
    "#cmass_sgc = esutil.io.read(path+'cmass-dr12v4-S-Reid-full.dat.fits')\n",
    "#cmass_ngc = cmass_ngc[(cmass_ngc['Z'] > 0.43) & (cmass_ngc['Z'] < 0.7)]\n",
    "#cmass_sgc = cmass_sgc[(cmass_sgc['Z'] > 0.43) & (cmass_sgc['Z'] < 0.7)]\n",
    "#cmass_train = Cuts.SpatialCuts(cmass_sgc, ra=310, ra2=360, dec=-2, dec2=2)\n",
    "cmass_train = Cuts.keepGoodRegion(cmass_sgc)"
   ]
  },
  {
   "cell_type": "code",
   "execution_count": 28,
   "metadata": {},
   "outputs": [],
   "source": [
    "cmass = np.hstack([cmass_ngc, cmass_sgc])"
   ]
  },
  {
   "cell_type": "code",
   "execution_count": 29,
   "metadata": {},
   "outputs": [
    {
     "name": "stdout",
     "output_type": "stream",
     "text": [
      "12422.0\n"
     ]
    }
   ],
   "source": [
    "print np.sum(cmass_train['WEIGHT_CP'])"
   ]
  },
  {
   "cell_type": "code",
   "execution_count": 30,
   "metadata": {},
   "outputs": [],
   "source": [
    "rootdir = '../output/sfd_train_photo_SamPle_nozband_ran10_3_full_tol1e5/'"
   ]
  },
  {
   "cell_type": "code",
   "execution_count": 31,
   "metadata": {},
   "outputs": [
    {
     "name": "stdout",
     "output_type": "stream",
     "text": [
      "\n",
      "--------------------------------\n",
      " calling catalog\n",
      "--------------------------------\n",
      "dmass_spt_sys_v3.fits\n",
      "\n",
      "--------------------------------\n",
      " calling catalog\n",
      "--------------------------------\n",
      "gold_st82_prob.fits\n",
      "12637.112833275674\n",
      "117292.90214602613\n",
      "12639\n"
     ]
    }
   ],
   "source": [
    "dmass_spt = io.SearchAndCallFits(path = rootdir, columns = None, keyword = 'dmass_spt_sys_v3.fits')\n",
    "dmass_spt = dmass_spt[ dmass_spt['CMASS_PROB'] > 0.01 ]\n",
    "dmass_st82 = io.SearchAndCallFits(path = rootdir, columns = None, keyword = 'gold_st82_prob.fits')\n",
    "dmass_st82 =dmass_st82[ dmass_st82['EachProb_CMASS'] > 0.01]\n",
    "\n",
    "train = esutil.io.read(rootdir+'train_sample_des.fits')\n",
    "train = Cuts.keepGoodRegion(train)\n",
    "\n",
    "dmass_spt = Cuts.keepGoodRegion(dmass_spt)\n",
    "dmass_st82 = Cuts.keepGoodRegion(dmass_st82)\n",
    "\n",
    "print np.sum(dmass_st82['EachProb_CMASS'])\n",
    "print np.sum(dmass_spt['CMASS_PROB'])\n",
    "print train.size"
   ]
  },
  {
   "cell_type": "code",
   "execution_count": null,
   "metadata": {},
   "outputs": [],
   "source": []
  },
  {
   "cell_type": "code",
   "execution_count": 148,
   "metadata": {},
   "outputs": [
    {
     "data": {
      "text/plain": [
       "'/n/des/lee.5922/data/cmass_cat/'"
      ]
     },
     "execution_count": 148,
     "metadata": {},
     "output_type": "execute_result"
    }
   ],
   "source": [
    "/n/des/lee.5922/data/cmass_cat/patchy_mock/"
   ]
  },
  {
   "cell_type": "code",
   "execution_count": 46,
   "metadata": {},
   "outputs": [
    {
     "name": "stdout",
     "output_type": "stream",
     "text": [
      "\n"
     ]
    }
   ],
   "source": [
    "cmass_mock_fileN = np.loadtxt(path+'patchy_mock/Patchy-Mocks-DR12CMASS-N-V6C-Portsmouth-mass_0011.dat')\n",
    "cmass_mock_fileS = np.loadtxt(path+'patchy_mock/Patchy-Mocks-DR12CMASS-S-V6C-Portsmouth-mass_0011.dat')\n",
    "cmass_mock_file = np.vstack([cmass_mock_fileN, cmass_mock_fileS])"
   ]
  },
  {
   "cell_type": "code",
   "execution_count": 47,
   "metadata": {},
   "outputs": [
    {
     "name": "stdout",
     "output_type": "stream",
     "text": [
      "reading 1/2 /n/des/lee.5922/data/cmass_cat/vetomask/mask_nside4096_Patchy-Mocks-Randoms-DR12NGC-COMPSAM_V6C.fits\n",
      "reading 2/2 /n/des/lee.5922/data/cmass_cat/vetomask/mask_nside4096_Patchy-Mocks-Randoms-DR12SGC-COMPSAM_V6C.fits\n"
     ]
    }
   ],
   "source": [
    "#cmass_mock_file = np.loadtxt(path+'patchy_mock/Patchy-Mocks-DR12CMASS-N-V6C-Portsmouth-mass_0001.dat')\n",
    "cmass_mock = np.zeros( (cmass_mock_file.shape[0],), dtype = [('RA', 'float'), ('DEC', 'float'), ('Z', 'float'),('VETO_FLAG', 'int')])\n",
    "cmass_mock['RA'] = cmass_mock_file[:,0]\n",
    "cmass_mock['DEC'] = cmass_mock_file[:,1]\n",
    "cmass_mock['Z'] = cmass_mock_file[:,2]\n",
    "cmass_mock['VETO_FLAG'] = cmass_mock_file[:,6]\n",
    "#cmass_mock = cmass_mock[(cmass_mock['Z'] > 0.43) & (cmass_mock['Z'] < 0.7)]\n",
    "cmass_mock = cmass_mock[ cmass_mock['VETO_FLAG'] == 1]\n",
    "\n",
    "cmass_mock = BOSSvetoing(cmass_mock, option = 'all')"
   ]
  },
  {
   "cell_type": "code",
   "execution_count": 48,
   "metadata": {},
   "outputs": [],
   "source": [
    "cmass_mock_fileN, cmass_mock_fileS, cmass_mock_file = None, None, None"
   ]
  },
  {
   "cell_type": "code",
   "execution_count": 37,
   "metadata": {},
   "outputs": [],
   "source": []
  },
  {
   "cell_type": "code",
   "execution_count": 110,
   "metadata": {},
   "outputs": [],
   "source": [
    "def CalculateNumDensityArea(cat, hpix, weight = 'DES', weight_value = None):\n",
    "    \n",
    "    if weight_value is None : weight_value = np.ones(cat.size)\n",
    "    Npix = hpix.size\n",
    "    hpind = hpRaDecToHEALPixel(cat['RA'], cat['DEC'], nside=4096, nest= False)\n",
    "    vetoobjmask = np.in1d( hpind, hpix )\n",
    "    \n",
    "    #Nobj = np.sum(vetoedhpix)\n",
    "    pixarea = hp.nside2pixarea( 4096, degrees = True)\n",
    "    TotalArea = Npix * pixarea\n",
    "    \n",
    "    #print 'total area', TotalArea,\n",
    "    \n",
    "    if weight is 'DES' :\n",
    "        try:\n",
    "            #ncat = np.sum( cat['EachProb_CMASS'][vetoobjmask] )\n",
    "            ncat = np.sum( (cat['EachProb_CMASS'] * weight_value )[vetoobjmask] )\n",
    "            num_density = ncat * 1./TotalArea\n",
    "            #print ' Nobj', ncat\n",
    "            \n",
    "        except ZeroDivisionError: num_density = 0.0\n",
    "        \n",
    "    elif weight is True :\n",
    "        #vetoobj = cat[vetoobjmask]\n",
    "        ncat = np.sum( (cat['WEIGHT_SYSTOT']*( cat['WEIGHT_CP'] +cat['WEIGHT_NOZ'] - 1 ))[vetoobjmask] ) \n",
    "        try : num_density = ncat * 1./TotalArea \n",
    "        except ZeroDivisionError: num_density = 0.0\n",
    "        #print ' Nobj', ncat\n",
    "        \n",
    "    elif weight is False :\n",
    "        ncat = cat[vetoobjmask].size\n",
    "        num_density = ncat *1./TotalArea\n",
    "        \n",
    "    else : print 'something is wrong!!!'\n",
    "    \n",
    "    #print ' Nobj', ncat\n",
    "    return num_density"
   ]
  },
  {
   "cell_type": "code",
   "execution_count": 33,
   "metadata": {},
   "outputs": [],
   "source": [
    "# add jack knife error\n",
    "def jkerror( catalog, random, njack = 10 ):\n",
    "    import os\n",
    "    #from suchyta_utils import _jkfunctions as _jk\n",
    "\n",
    "    # jk error\n",
    "    jkfile = './jkregion.txt'\n",
    "    jk.GenerateJKRegions( catalog['RA'], catalog['DEC'], njack, jkfile)\n",
    "    jktest = jk.SphericalJK( target = CalculateNumDensity, jkargs=[catalog, random], jkargsby=[['RA', 'DEC'],['RA', 'DEC']], \\\n",
    "                            nojkargs=[], regions = jkfile)\n",
    "    jktest.DoJK( regions = jkfile )\n",
    "    jkresults = jktest.GetResults(jk=True, full = True)\n",
    "\n",
    "    \n",
    "    full_j = jkresults['full']   \n",
    "    it = jkresults['it']\n",
    "    it_j = jkresults['jk']\n",
    "\n",
    "    norm = (njack-1)*1./njack\n",
    "    #cov = np.std(it_j)**2 * norm\n",
    "    cov = np.sum((it_j - it_j.mean())**2) * norm\n",
    "    \n",
    "    \n",
    "    os.remove(jkfile)\n",
    "    return it_j.mean(), it_j, np.sqrt(cov)"
   ]
  },
  {
   "cell_type": "code",
   "execution_count": 71,
   "metadata": {},
   "outputs": [
    {
     "name": "stdout",
     "output_type": "stream",
     "text": [
      "71 / 72                                                                       Area 124.25234251277075\n"
     ]
    }
   ],
   "source": [
    "BOSSCleanMask = np.hstack([BOSSCleanMaskSGC['PIXEL'], BOSSCleanMaskNGC['PIXEL']])\n",
    "Narr = BOSSCleanMask.size/615362 #600000\n",
    "HIND_BOSSCleanMask = np.split( BOSSCleanMask[:615362*Narr], Narr)\n",
    "#HIND_CMASSCleanMask = np.array_split( BOSSCleanMask, BOSSCleanMask.size/600000)\n",
    "\n",
    "\n",
    "n_density_CMASS = np.zeros(len(HIND_CMASSCleanMask))\n",
    "i = 0\n",
    "for vind in HIND_CMASSCleanMask:\n",
    "    print '\\r', i, '/',len(HIND_CMASSCleanMask),\n",
    "    n_density_CMASS[i] = CalculateNumDensityArea(cmass, vind, weight = True )\n",
    "    i += 1\n",
    "\n",
    "    \n",
    "avg_n_density_cmass = n_density_CMASS * 1./n_density_CMASS.mean()\n",
    "mean_n_density_cmass = np.mean(avg_n_density_cmass)\n",
    "std_n_density_cmass = np.std(avg_n_density_cmass)\n",
    "area_cmass = hp.nside2pixarea( 4096, degrees = True) * HIND_CMASSCleanMask[0].size\n",
    "print 'Area', area_cmass"
   ]
  },
  {
   "cell_type": "code",
   "execution_count": 121,
   "metadata": {},
   "outputs": [
    {
     "data": {
      "text/plain": [
       "31383462"
      ]
     },
     "execution_count": 121,
     "metadata": {},
     "output_type": "execute_result"
    },
    {
     "name": "stdout",
     "output_type": "stream",
     "text": [
      "\n"
     ]
    }
   ],
   "source": [
    "615362*Narr"
   ]
  },
  {
   "cell_type": "code",
   "execution_count": 125,
   "metadata": {},
   "outputs": [
    {
     "data": {
      "text/plain": [
       "array([103908805, 103908806, 103908807, ..., 107053888, 107053889,\n",
       "       107053890], dtype=int32)"
      ]
     },
     "execution_count": 125,
     "metadata": {},
     "output_type": "execute_result"
    }
   ],
   "source": [
    "BOSSCleanMaskNGC['PIXEL'][-( BOSSCleanMaskNGC['PIXEL'].size - 615362*Narr):]"
   ]
  },
  {
   "cell_type": "code",
   "execution_count": 207,
   "metadata": {},
   "outputs": [
    {
     "name": "stdout",
     "output_type": "stream",
     "text": [
      "453194\n",
      "52 / 52                                                   Area 126.09116604112158\n",
      "number of hpix 615362 453194\n"
     ]
    }
   ],
   "source": [
    "Narr = BOSSCleanMaskNGC['PIXEL'].size/615362 #600000\n",
    "HIND_BOSSCleanMaskNGC = np.split( BOSSCleanMaskNGC['PIXEL'][:615362*Narr], Narr)\n",
    "remain = [BOSSCleanMaskNGC['PIXEL'][-( BOSSCleanMaskNGC['PIXEL'].size - 615362*Narr):] ]\n",
    "print remain[0].size\n",
    "HIND_BOSSCleanMaskNGC = HIND_BOSSCleanMaskNGC + remain\n",
    "#HIND_BOSSCleanMaskNGC = np.array_split( BOSSCleanMaskNGC['PIXEL'], Narr)\n",
    "\n",
    "n_density_ngc = np.zeros(len(HIND_BOSSCleanMaskNGC))\n",
    "i = 0\n",
    "for vind in HIND_BOSSCleanMaskNGC:\n",
    "    print '\\r', i+1, '/',len(HIND_BOSSCleanMaskNGC),\n",
    "    n_density_ngc[i] = CalculateNumDensityArea(cmass_ngc, vind, weight = True )\n",
    "    i += 1\n",
    "    \n",
    "avg_n_density_ngc = n_density_ngc * 1./n_density_ngc.mean()\n",
    "mean_n_density_ngc = np.mean(avg_n_density_ngc)\n",
    "std_n_density_ngc = np.std(avg_n_density_ngc)\n",
    "area_ngc = hp.nside2pixarea( 4096, degrees = True) * HIND_BOSSCleanMaskNGC[0].size\n",
    "print 'Area', area_ngc\n",
    "print 'number of hpix',  len(HIND_BOSSCleanMaskNGC[0]), len(HIND_BOSSCleanMaskNGC[-1])\n"
   ]
  },
  {
   "cell_type": "code",
   "execution_count": 206,
   "metadata": {},
   "outputs": [
    {
     "name": "stdout",
     "output_type": "stream",
     "text": [
      "131360\n",
      "20 / 20         Area 126.09116604112158\n",
      "number of hpix 615362 131360\n"
     ]
    }
   ],
   "source": [
    "Narr = BOSSCleanMaskSGC['PIXEL'].size/615362 #600000\n",
    "HIND_BOSSCleanMaskSGC = np.split( BOSSCleanMaskSGC['PIXEL'][:615362*Narr], Narr)\n",
    "remain = [ BOSSCleanMaskSGC['PIXEL'][-(BOSSCleanMaskSGC['PIXEL'].size - 615362*Narr):] ]\n",
    "print remain[0].size\n",
    "HIND_BOSSCleanMaskSGC = HIND_BOSSCleanMaskSGC + remain\n",
    "#HIND_BOSSCleanMaskSGC = np.array_split( BOSSCleanMaskSGC['PIXEL'], Narr)\n",
    "n_density_sgc = np.zeros(len(HIND_BOSSCleanMaskSGC))\n",
    "i = 0\n",
    "for vind in HIND_BOSSCleanMaskSGC:\n",
    "    print '\\r', i+1, '/',len(HIND_BOSSCleanMaskSGC),\n",
    "    n_density_sgc[i] = CalculateNumDensityArea(cmass_sgc, vind, weight = True )\n",
    "    i += 1\n",
    "    \n",
    "avg_n_density_sgc = n_density_sgc * 1./n_density_sgc.mean()\n",
    "mean_n_density_sgc = np.mean(avg_n_density_sgc)\n",
    "std_n_density_sgc = np.std(avg_n_density_sgc)\n",
    "area_sgc = hp.nside2pixarea( 4096, degrees = True) * HIND_BOSSCleanMaskSGC[0].size\n",
    "print 'Area', area_sgc\n",
    "print 'number of hpix',  len(HIND_BOSSCleanMaskSGC[0]), len(HIND_BOSSCleanMaskSGC[-1])"
   ]
  },
  {
   "cell_type": "code",
   "execution_count": 204,
   "metadata": {},
   "outputs": [
    {
     "name": "stdout",
     "output_type": "stream",
     "text": [
      "10 / 10         Area 126.09137094679669\n",
      "number of hpix 615363 615362\n"
     ]
    }
   ],
   "source": [
    "Narr = GoldMask_spt['PIXEL'].size/600000\n",
    "#HIND_DMASSCleanMask = np.split( GoldMask_spt['PIXEL'][:600000*Narr], Narr)\n",
    "#remain = [ GoldMask_spt['PIXEL'][-(GoldMask_spt['PIXEL'].size - 600000*Narr):] ]\n",
    "#print remain[0].size\n",
    "#HIND_DMASSCleanMask = HIND_DMASSCleanMask + remain\n",
    "#HIND_DMASSCleanMask = HIND_DMASSCleanMask[:-1]\n",
    "HIND_DMASSCleanMask = np.array_split( GoldMask_spt['PIXEL'], Narr)\n",
    "\n",
    "#HIND_DMASSCleanMask = np.array_split( GoldMask_spt['PIXEL'], GoldMask_spt['PIXEL'].size/600000)\n",
    "n_density_dmass = np.zeros(len(HIND_DMASSCleanMask))\n",
    "i = 0\n",
    "for vind in HIND_DMASSCleanMask:\n",
    "    print '\\r', i+1, '/',len(HIND_DMASSCleanMask),\n",
    "    n_density_dmass[i] = CalculateNumDensityArea(dmass_spt, vind, weight = 'DES', weight_value=matched_arr['FRAC'] )\n",
    "    i += 1\n",
    "    \n",
    "avg_n_density_dmass = n_density_dmass * 1./n_density_dmass.mean()\n",
    "mean_n_density_dmass = np.mean(avg_n_density_dmass)\n",
    "std_n_density_dmass = np.std(avg_n_density_dmass)\n",
    "area_dmass = hp.nside2pixarea( 4096, degrees = True) * HIND_DMASSCleanMask[0].size\n",
    "print 'Area', area_dmass\n",
    "print 'number of hpix',  len(HIND_DMASSCleanMask[0]), len(HIND_DMASSCleanMask[-1])"
   ]
  },
  {
   "cell_type": "code",
   "execution_count": 156,
   "metadata": {},
   "outputs": [
    {
     "name": "stdout",
     "output_type": "stream",
     "text": [
      "69 / 70                                                                     Area 126.09116604112158\n",
      "number of hpix 615362 615362\n"
     ]
    }
   ],
   "source": [
    "BOSSCleanMask = np.hstack([BOSSCleanMaskSGC['PIXEL'], BOSSCleanMaskNGC['PIXEL']])\n",
    "\n",
    "Narr = BOSSCleanMask.size/615362 #600000\n",
    "HIND_MockCleanMask = np.split( BOSSCleanMask[:615362*Narr], Narr)\n",
    "#HIND_MockCleanMask = np.array_split( BOSSCleanMask, Narr)\n",
    "\n",
    "#HIND_MockCleanMask = np.array_split( BOSSCleanMask, BOSSCleanMask.size/600000)\n",
    "n_density_mock = np.zeros(len(HIND_MockCleanMask))\n",
    "i = 0\n",
    "for vind in HIND_MockCleanMask:\n",
    "    print '\\r', i+1, '/',len(HIND_MockCleanMask),\n",
    "    n_density_mock[i] = CalculateNumDensityArea(cmass_mock, vind, weight = False )\n",
    "    i += 1\n",
    "avg_n_density_mock = n_density_mock * 1./n_density_mock.mean()\n",
    "mean_n_density_mock = np.mean(avg_n_density_mock)\n",
    "std_n_density_mock = np.std(avg_n_density_mock)\n",
    "area_mock = hp.nside2pixarea( 4096, degrees = True) * HIND_MockCleanMask[0].size\n",
    "print 'Area', area_mock\n",
    "print 'number of hpix',  len(HIND_MockCleanMask[0]), len(HIND_MockCleanMask[-1])"
   ]
  },
  {
   "cell_type": "code",
   "execution_count": 202,
   "metadata": {},
   "outputs": [
    {
     "name": "stdout",
     "output_type": "stream",
     "text": [
      "95.26011660556219 89.84357479290357 94.58998821223545 97.06455817358119 91.7751926831208\n",
      "101.20055154260801 101.1854409869189\n"
     ]
    }
   ],
   "source": [
    "ntotal_CMASS = CalculateNumDensityArea(cmass, BOSSCleanMask, weight =  True)\n",
    "ntotal_MOCK = CalculateNumDensityArea(cmass_mock, BOSSCleanMask, weight =  False)\n",
    "ntotal_NGC = CalculateNumDensityArea(cmass_ngc, BOSSCleanMaskNGC['PIXEL'], weight =  True)\n",
    "ntotal_SGC = CalculateNumDensityArea(cmass_sgc, BOSSCleanMaskSGC['PIXEL'], weight = True)\n",
    "ntotal_DMASS = CalculateNumDensityArea(dmass_spt, GoldMask_spt['PIXEL'], weight = 'DES')\n",
    "ntotal_st82 = CalculateNumDensityArea(train, GoldMask_st82['PIXEL'], weight = False)\n",
    "ntotal_dmass_st82 = CalculateNumDensityArea(dmass_st82, GoldMask_st82['PIXEL'], weight = 'DES')\n",
    "\n",
    "print ntotal_CMASS, ntotal_MOCK, ntotal_NGC, ntotal_SGC, ntotal_DMASS\n",
    "print ntotal_st82, ntotal_dmass_st82"
   ]
  },
  {
   "cell_type": "code",
   "execution_count": 208,
   "metadata": {},
   "outputs": [
    {
     "data": {
      "image/png": "[encoded data removed]",
      "text/plain": [
       "<matplotlib.figure.Figure at 0x7fc017908690>"
      ]
     },
     "metadata": {},
     "output_type": "display_data"
    }
   ],
   "source": [
    "# plot------------------\n",
    "fig,(ax, ax2, ax3) = plt.subplots(1, 3, figsize = (17, 5))\n",
    "\n",
    "\n",
    "ax.axhspan( mean_n_density_ngc - std_n_density_ngc, mean_n_density_ngc + std_n_density_ngc, alpha=0.3, color='grey')#, label = r'\\rm 68% confidence}')\n",
    "ax.axhspan( mean_n_density_ngc - 2*std_n_density_ngc, mean_n_density_ngc + 2*std_n_density_ngc, alpha=0.1, color='grey')#, label = r'\\rm 68 % confidence}')\n",
    "#ax.axhspan( 1. - 2*defined_sigma_st82/mean, 1 + 2*defined_sigma_st82/mean, alpha=0.1, color='grey', linestyle = None, label = '95 % confidence')\n",
    "#ax.errorbar( np.arange(n_density_ngc_norm.size), n_density_ngc_norm, yerr = err_ngc, fmt='o' )\n",
    "ax.plot( np.arange(avg_n_density_ngc.size), avg_n_density_ngc, marker = '.' , linestyle = 'none', color = 'black' )\n",
    "ax.plot( avg_n_density_ngc.size/2., ntotal_st82/n_density_ngc.mean(), marker = '*', color = 'red',  markersize = 10, linestyle = 'none', label = r'{\\rm STRIPE 82}')\n",
    "ax.plot( avg_n_density_ngc.size/2., ntotal_DMASS/n_density_ngc.mean(), marker = '*', color = 'blue',  markersize = 10, linestyle = 'none', label = r'{\\rm DES-CMASS}')\n",
    "\n",
    "ax.axhline(y = mean_n_density_ngc, linestyle='--', color = 'grey')\n",
    "ax.set_title(r'{\\rm CMASS NGC}', fontsize = 20)\n",
    "ax.set_ylim(0.85, 1.15)\n",
    "ax.legend(loc=4, fontsize = 15)\n",
    "ax.set_ylabel(r'$n_i / \\langle n \\rangle$', fontsize = 20)\n",
    "ax.set_xlabel(r'{\\rm patch index $i$}', fontsize = 20)\n",
    "ax.text(0, 1.12, r'{\\rm  Patch area }'+ r'${:0.0f} \\deg^2$'.format(area_ngc), fontsize = 15)\n",
    "#ax.text(0, 1.10, r'{\\rm  St82 area }'+ r'${:0.0f} \\deg^2$'.format(123), fontsize = 15)\n",
    "ax.tick_params(labelsize = 15)\n",
    "\n",
    "\n",
    "ax2.axhspan( mean_n_density_sgc - std_n_density_sgc, mean_n_density_sgc + std_n_density_sgc, alpha=0.3, color='grey')#, label = '68 % confidence')\n",
    "ax2.axhspan( mean_n_density_sgc - 2*std_n_density_sgc, mean_n_density_sgc + 2*std_n_density_sgc, alpha=0.1, color='grey')#, label = '68 % confidence')\n",
    "#ax.axhspan( 1. - 2*defined_sigma_st82/mean, 1 + 2*defined_sigma_st82/mean, alpha=0.1, color='grey', linestyle = None, label = '95 % confidence')\n",
    "#ax.errorbar( np.arange(n_density_ngc_norm.size), n_density_ngc_norm, yerr = err_ngc, fmt='o' )\n",
    "ax2.plot( np.arange(avg_n_density_sgc.size), avg_n_density_sgc, marker = '.' , linestyle = 'none', color = 'black' )\n",
    "ax2.plot( avg_n_density_sgc.size/2., ntotal_st82/n_density_sgc.mean(), marker = '*', color = 'red',  markersize = 10, linestyle = 'none', label = r'{\\rm STRIPE 82}')\n",
    "ax2.plot( avg_n_density_sgc.size/2., ntotal_DMASS/n_density_sgc.mean(), marker = '*', color = 'blue',  markersize = 10, linestyle = 'none', label = r'{\\rm DES-CMASS}')\n",
    "ax2.axhline(y = mean_n_density_sgc, linestyle='--', color = 'grey')\n",
    "\n",
    "ax2.set_title(r'{\\rm CMASS SGC}', fontsize = 20)\n",
    "ax2.set_ylim(0.85, 1.15)\n",
    "#ax2.legend(loc=4, fontsize = 15)\n",
    "ax2.set_ylabel(r'$n_i / \\langle n \\rangle$', fontsize = 20)\n",
    "ax2.set_xlabel(r'{\\rm patch index $i$}', fontsize = 20)\n",
    "ax2.text(0, 1.12, r'{\\rm  Patch area }'+ r'${:0.0f} \\deg^2$'.format(area_sgc), fontsize = 15)\n",
    "#ax2.text(0, 1.10, r'{\\rm  St82 area }'+ r'${:0.0f} \\deg^2$'.format(123), fontsize = 15)\n",
    "ax2.tick_params(labelsize = 15)\n",
    "\n",
    "\n",
    "\n",
    "ax3.axhspan( mean_n_density_dmass - std_n_density_dmass, mean_n_density_dmass + std_n_density_dmass, alpha=0.3, color='grey', label = '68 % confidence')\n",
    "ax3.axhspan( mean_n_density_dmass - 2*std_n_density_dmass, mean_n_density_dmass + 2*std_n_density_dmass, alpha=0.1, color='grey', label = '68 % confidence')\n",
    "#ax.axhspan( 1. - 2*defined_sigma_st82/mean, 1 + 2*defined_sigma_st82/mean, alpha=0.1, color='grey', linestyle = None, label = '95 % confidence')\n",
    "#ax.errorbar( np.arange(n_density_ngc_norm.size), n_density_ngc_norm, yerr = err_ngc, fmt='o' )\n",
    "ax3.plot( np.arange(avg_n_density_dmass.size), avg_n_density_dmass, marker = '.' , linestyle = 'none', color = 'black' )\n",
    "ax3.plot( avg_n_density_dmass.size/2., ntotal_st82/n_density_dmass.mean(), marker = '*', color = 'red',  markersize = 10, linestyle = 'none', label = 'STRIPE 82')\n",
    "ax3.axhline(y = mean_n_density_dmass, linestyle='--', color = 'grey')\n",
    "\n",
    "ax3.set_title(r'{\\rm DES-CMASS}', fontsize = 20)\n",
    "ax3.set_ylim(0.85, 1.15)\n",
    "#ax3.legend(loc=4, fontsize = 15)\n",
    "ax3.set_ylabel(r'$n_i / \\langle n \\rangle$', fontsize = 20)\n",
    "ax3.set_xlabel(r'{\\rm patch index $i$}', fontsize = 20)\n",
    "ax3.text(0, 1.12, r'{\\rm  Patch area }'+ r'${:0.0f} \\deg^2$'.format(area_dmass), fontsize = 15)\n",
    "#ax3.text(0, 1.10, r'{\\rm  St82 area }'+ r'${:0.0f} \\deg^2$'.format(123), fontsize = 15)\n",
    "ax3.tick_params(labelsize = 15)\n",
    "\n",
    "fig.tight_layout()\n",
    "fig.savefig('../paper_figure/ndensity-sameA.pdf')"
   ]
  },
  {
   "cell_type": "code",
   "execution_count": 287,
   "metadata": {},
   "outputs": [
    {
     "data": {
      "image/png": "[encoded data removed]",
      "text/plain": [
       "<matplotlib.figure.Figure at 0x7f5ae700c190>"
      ]
     },
     "metadata": {},
     "output_type": "display_data"
    }
   ],
   "source": [
    "# plot------------------\n",
    "fig,(ax, ax2, ax3) = plt.subplots(1, 3, figsize = (17, 5))\n",
    "\n",
    "\n",
    "ax.axhspan( mean_n_density_ngc - std_n_density_ngc, mean_n_density_ngc + std_n_density_ngc, alpha=0.3, color='grey')#, label = r'\\rm 68% confidence}')\n",
    "ax.axhspan( mean_n_density_ngc - 2*std_n_density_ngc, mean_n_density_ngc + 2*std_n_density_ngc, alpha=0.1, color='grey')#, label = r'\\rm 68 % confidence}')\n",
    "#ax.axhspan( 1. - 2*defined_sigma_st82/mean, 1 + 2*defined_sigma_st82/mean, alpha=0.1, color='grey', linestyle = None, label = '95 % confidence')\n",
    "#ax.errorbar( np.arange(n_density_ngc_norm.size), n_density_ngc_norm, yerr = err_ngc, fmt='o' )\n",
    "ax.plot( np.arange(avg_n_density_ngc.size), avg_n_density_ngc, marker = '.' , linestyle = 'none', color = 'black' )\n",
    "ax.plot( avg_n_density_ngc.size/2., ntotal_st82/n_density_ngc.mean(), marker = '*', color = 'red',  markersize = 10, linestyle = 'none', label = r'{\\rm STRIPE 82}')\n",
    "ax.plot( avg_n_density_ngc.size/2., ntotal_DMASS/n_density_ngc.mean(), marker = '*', color = 'blue',  markersize = 10, linestyle = 'none', label = r'{\\rm DES-CMASS}')\n",
    "\n",
    "ax.axhline(y = mean_n_density_ngc, linestyle='--', color = 'grey')\n",
    "ax.set_title(r'{\\rm CMASS NGC}', fontsize = 20)\n",
    "ax.set_ylim(0.85, 1.15)\n",
    "ax.legend(loc=4, fontsize = 15)\n",
    "ax.set_ylabel(r'$n_i / \\langle n \\rangle$', fontsize = 20)\n",
    "ax.set_xlabel(r'{\\rm patch index $i$}', fontsize = 20)\n",
    "ax.text(0, 1.12, r'{\\rm  Patch area }'+ r'${:0.0f} \\deg^2$'.format(area_ngc), fontsize = 15)\n",
    "#ax.text(0, 1.10, r'{\\rm  St82 area }'+ r'${:0.0f} \\deg^2$'.format(123), fontsize = 15)\n",
    "ax.tick_params(labelsize = 15)\n",
    "\n",
    "\n",
    "ax2.axhspan( mean_n_density_sgc - std_n_density_sgc, mean_n_density_sgc + std_n_density_sgc, alpha=0.3, color='grey')#, label = '68 % confidence')\n",
    "ax2.axhspan( mean_n_density_sgc - 2*std_n_density_sgc, mean_n_density_sgc + 2*std_n_density_sgc, alpha=0.1, color='grey')#, label = '68 % confidence')\n",
    "#ax.axhspan( 1. - 2*defined_sigma_st82/mean, 1 + 2*defined_sigma_st82/mean, alpha=0.1, color='grey', linestyle = None, label = '95 % confidence')\n",
    "#ax.errorbar( np.arange(n_density_ngc_norm.size), n_density_ngc_norm, yerr = err_ngc, fmt='o' )\n",
    "ax2.plot( np.arange(avg_n_density_sgc.size), avg_n_density_sgc, marker = '.' , linestyle = 'none', color = 'black' )\n",
    "ax2.plot( avg_n_density_sgc.size/2., ntotal_st82/n_density_sgc.mean(), marker = '*', color = 'red',  markersize = 10, linestyle = 'none', label = r'{\\rm STRIPE 82}')\n",
    "ax2.plot( avg_n_density_sgc.size/2., ntotal_DMASS/n_density_sgc.mean(), marker = '*', color = 'blue',  markersize = 10, linestyle = 'none', label = r'{\\rm DES-CMASS}')\n",
    "ax2.axhline(y = mean_n_density_sgc, linestyle='--', color = 'grey')\n",
    "\n",
    "ax2.set_title(r'{\\rm CMASS SGC}', fontsize = 20)\n",
    "ax2.set_ylim(0.85, 1.15)\n",
    "#ax2.legend(loc=4, fontsize = 15)\n",
    "ax2.set_ylabel(r'$n_i / \\langle n \\rangle$', fontsize = 20)\n",
    "ax2.set_xlabel(r'{\\rm patch index $i$}', fontsize = 20)\n",
    "ax2.text(0, 1.12, r'{\\rm  Patch area }'+ r'${:0.0f} \\deg^2$'.format(area_sgc), fontsize = 15)\n",
    "#ax2.text(0, 1.10, r'{\\rm  St82 area }'+ r'${:0.0f} \\deg^2$'.format(123), fontsize = 15)\n",
    "ax2.tick_params(labelsize = 15)\n",
    "\n",
    "\n",
    "\n",
    "ax3.axhspan( mean_n_density_dmass - std_n_density_dmass, mean_n_density_dmass + std_n_density_dmass, alpha=0.3, color='grey', label = '68 % confidence')\n",
    "ax3.axhspan( mean_n_density_dmass - 2*std_n_density_dmass, mean_n_density_dmass + 2*std_n_density_dmass, alpha=0.1, color='grey', label = '68 % confidence')\n",
    "#ax.axhspan( 1. - 2*defined_sigma_st82/mean, 1 + 2*defined_sigma_st82/mean, alpha=0.1, color='grey', linestyle = None, label = '95 % confidence')\n",
    "#ax.errorbar( np.arange(n_density_ngc_norm.size), n_density_ngc_norm, yerr = err_ngc, fmt='o' )\n",
    "ax3.plot( np.arange(avg_n_density_dmass.size), avg_n_density_dmass, marker = '.' , linestyle = 'none', color = 'black' )\n",
    "ax3.plot( avg_n_density_dmass.size/2., n_density_st82/n_density_dmass.mean(), marker = '*', color = 'red',  markersize = 10, linestyle = 'none', label = 'STRIPE 82')\n",
    "ax3.axhline(y = mean_n_density_dmass, linestyle='--', color = 'grey')\n",
    "\n",
    "ax3.set_title(r'{\\rm DES-CMASS}', fontsize = 20)\n",
    "ax3.set_ylim(0.85, 1.15)\n",
    "#ax3.legend(loc=4, fontsize = 15)\n",
    "ax3.set_ylabel(r'$n_i / \\langle n \\rangle$', fontsize = 20)\n",
    "ax3.set_xlabel(r'{\\rm patch index $i$}', fontsize = 20)\n",
    "ax3.text(0, 1.12, r'{\\rm  Patch area }'+ r'${:0.0f} \\deg^2$'.format(area_dmass), fontsize = 15)\n",
    "#ax3.text(0, 1.10, r'{\\rm  St82 area }'+ r'${:0.0f} \\deg^2$'.format(123), fontsize = 15)\n",
    "ax3.tick_params(labelsize = 15)\n",
    "\n",
    "fig.tight_layout()\n",
    "fig.savefig('../paper_figure/ndensity.pdf')"
   ]
  },
  {
   "cell_type": "code",
   "execution_count": null,
   "metadata": {},
   "outputs": [],
   "source": []
  },
  {
   "cell_type": "code",
   "execution_count": 288,
   "metadata": {},
   "outputs": [
    {
     "data": {
      "image/png": "[encoded data removed]",
      "text/plain": [
       "<matplotlib.figure.Figure at 0x7f5ae726e8d0>"
      ]
     },
     "metadata": {},
     "output_type": "display_data"
    }
   ],
   "source": [
    "fig,(ax, ax2, ax3) = plt.subplots(1, 3, figsize = (17, 5))\n",
    "\n",
    "ax.axhspan( mean_n_density_cmass - std_n_density_cmass, mean_n_density_cmass + std_n_density_cmass, alpha=0.3, color='grey')#, label = '68 % confidence')\n",
    "ax.axhspan( mean_n_density_cmass - 2*std_n_density_cmass, mean_n_density_cmass + 2*std_n_density_cmass, alpha=0.1, color='grey')#, label = '68 % confidence')\n",
    "#ax.axhspan( 1. - 2*defined_sigma_st82/mean, 1 + 2*defined_sigma_st82/mean, alpha=0.1, color='grey', linestyle = None, label = '95 % confidence')\n",
    "#ax.errorbar( np.arange(n_density_ngc_norm.size), n_density_ngc_norm, yerr = err_ngc, fmt='o' )\n",
    "ax.plot( np.arange(avg_n_density_cmass.size), avg_n_density_cmass, marker = '.' , linestyle = 'none', color = 'black' )\n",
    "ax.plot( avg_n_density_cmass.size/2., n_density_st82/n_density_CMASS.mean(), marker = '*', color = 'red',  markersize = 10, linestyle = 'none', label = r'{\\rm STRIPE 82}')\n",
    "ax.plot( avg_n_density_cmass.size/2., ntotal_DMASS/n_density_CMASS.mean(), marker = '*', color = 'blue',  markersize = 10, linestyle = 'none', label = r'{\\rm DES-CMASS}')\n",
    "\n",
    "ax.axhline(y = mean_n_density_ngc, linestyle='--', color = 'grey')\n",
    "\n",
    "ax.set_title(r'{\\rm FULL CMASS}', fontsize = 20)\n",
    "ax.set_ylim(0.85, 1.15)\n",
    "ax.legend(loc=4, fontsize = 15)\n",
    "ax.set_ylabel(r'$n_i / \\langle n \\rangle$', fontsize = 20)\n",
    "ax.set_xlabel(r'{\\rm patch index $i$}', fontsize = 20)\n",
    "ax.text(0, 1.12, r'{\\rm  Patch area }'+ r'${:0.0f} \\deg^2$'.format(area_cmass), fontsize = 15)\n",
    "#ax.text(0, 1.10, r'{\\rm  St82 area }'+ r'${:0.0f} \\deg^2$'.format(123), fontsize = 15)\n",
    "ax.tick_params(labelsize = 15)\n",
    "\n",
    "\n",
    "ax2.axhspan( mean_n_density_mock - std_n_density_mock, mean_n_density_mock + std_n_density_mock, alpha=0.3, color='grey', label = '68 % confidence')\n",
    "ax2.axhspan( mean_n_density_mock - 2*std_n_density_mock, mean_n_density_mock + 2*std_n_density_mock, alpha=0.1, color='grey', label = '68 % confidence')\n",
    "#ax.axhspan( 1. - 2*defined_sigma_st82/mean, 1 + 2*defined_sigma_st82/mean, alpha=0.1, color='grey', linestyle = None, label = '95 % confidence')\n",
    "#ax.errorbar( np.arange(n_density_ngc_norm.size), n_density_ngc_norm, yerr = err_ngc, fmt='o' )\n",
    "ax2.plot( np.arange(avg_n_density_mock.size), avg_n_density_mock, marker = '.' , linestyle = 'none', color = 'black' )\n",
    "#ax2.plot( avg_n_density_mock.size/2., n_density_st82/n_density_mock.mean(), marker = '*', color = 'red',  markersize = 10, linestyle = 'none', label = 'st82')\n",
    "#ax2.plot( avg_n_density_mock.size/2., ntotal_DMASS/n_density_mock.mean(), marker = '*', color = 'blue',  markersize = 10, linestyle = 'none', label = r'{\\rm DES-CMASS}')\n",
    "\n",
    "ax2.axhline(y = mean_n_density_ngc, linestyle='--', color = 'grey')\n",
    "\n",
    "ax2.set_title(r'{\\rm CMASS MOCK}', fontsize = 20)\n",
    "ax2.set_ylim(0.85, 1.15)\n",
    "#ax2.legend(loc=4, fontsize = 15)\n",
    "ax2.set_ylabel(r'$n_i / \\langle n \\rangle$', fontsize = 20)\n",
    "ax2.set_xlabel(r'{\\rm patch index $i$}', fontsize = 20)\n",
    "ax2.text(0, 1.12, r'{\\rm  Patch area }'+ r'${:0.0f} \\deg^2$'.format(area_mock), fontsize = 15)\n",
    "#ax2.text(0, 1.10, r'{\\rm  St82 area }'+ r'${:0.0f} \\deg^2$'.format(123), fontsize = 15)\n",
    "ax2.tick_params(labelsize = 15)\n",
    "\n",
    "\n",
    "ax3.axhspan( mean_n_density_dmass - std_n_density_dmass, mean_n_density_dmass + std_n_density_dmass, alpha=0.3, color='grey', label = '68 % confidence')\n",
    "ax3.axhspan( mean_n_density_dmass - 2*std_n_density_dmass, mean_n_density_dmass + 2*std_n_density_dmass, alpha=0.1, color='grey', label = '68 % confidence')\n",
    "#ax.axhspan( 1. - 2*defined_sigma_st82/mean, 1 + 2*defined_sigma_st82/mean, alpha=0.1, color='grey', linestyle = None, label = '95 % confidence')\n",
    "#ax.errorbar( np.arange(n_density_ngc_norm.size), n_density_ngc_norm, yerr = err_ngc, fmt='o' )\n",
    "ax3.plot( np.arange(avg_n_density_dmass.size), avg_n_density_dmass, marker = '.' , linestyle = 'none', color = 'black' )\n",
    "ax3.plot( avg_n_density_dmass.size/2., n_density_st82/n_density_dmass.mean(), marker = '*', color = 'red',  markersize = 10, linestyle = 'none', label = 'st82')\n",
    "ax3.axhline(y = mean_n_density_dmass, linestyle='--', color = 'grey')\n",
    "\n",
    "ax3.set_title(r'{\\rm DES-CMASS}', fontsize = 20)\n",
    "ax3.set_ylim(0.85, 1.15)\n",
    "#ax3.legend(loc=4, fontsize = 15)\n",
    "ax3.set_ylabel(r'$n_i / \\langle n \\rangle$', fontsize = 20)\n",
    "ax3.set_xlabel(r'{\\rm patch index $i$}', fontsize = 20)\n",
    "ax3.text(0, 1.12, r'{\\rm  Patch area }'+ r'${:0.0f} \\deg^2$'.format(area_dmass), fontsize = 15)\n",
    "#ax3.text(0, 1.10, r'{\\rm  St82 area }'+ r'${:0.0f} \\deg^2$'.format(123), fontsize = 15)\n",
    "ax3.tick_params(labelsize = 15)\n",
    "\n",
    "fig.tight_layout()\n",
    "fig.savefig('../paper_figure/ndensity_mock.pdf')"
   ]
  },
  {
   "cell_type": "code",
   "execution_count": null,
   "metadata": {},
   "outputs": [],
   "source": []
  }
 ],
 "metadata": {
  "kernelspec": {
   "display_name": "Python 2",
   "language": "python",
   "name": "python2"
  },
  "language_info": {
   "codemirror_mode": {
    "name": "ipython",
    "version": 2
   },
   "file_extension": ".py",
   "mimetype": "text/x-python",
   "name": "python",
   "nbconvert_exporter": "python",
   "pygments_lexer": "ipython2",
   "version": "2.7.14"
  }
 },
 "nbformat": 4,
 "nbformat_minor": 1
}
